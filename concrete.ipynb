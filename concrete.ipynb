{
 "cells": [
  {
   "cell_type": "code",
   "execution_count": 1,
   "id": "70030e01",
   "metadata": {},
   "outputs": [],
   "source": [
    "import pandas as pd\n",
    "import numpy as np\n",
    "import sklearn\n",
    "import matplotlib.pyplot as plt\n",
    "import seaborn as sns\n",
    "import scipy"
   ]
  },
  {
   "cell_type": "code",
   "execution_count": 2,
   "id": "f44d55f0",
   "metadata": {},
   "outputs": [],
   "source": [
    "df=pd.read_csv(\"concrete_data.csv\")"
   ]
  },
  {
   "cell_type": "code",
   "execution_count": 3,
   "id": "8369524b",
   "metadata": {},
   "outputs": [
    {
     "data": {
      "text/html": [
       "<div>\n",
       "<style scoped>\n",
       "    .dataframe tbody tr th:only-of-type {\n",
       "        vertical-align: middle;\n",
       "    }\n",
       "\n",
       "    .dataframe tbody tr th {\n",
       "        vertical-align: top;\n",
       "    }\n",
       "\n",
       "    .dataframe thead th {\n",
       "        text-align: right;\n",
       "    }\n",
       "</style>\n",
       "<table border=\"1\" class=\"dataframe\">\n",
       "  <thead>\n",
       "    <tr style=\"text-align: right;\">\n",
       "      <th></th>\n",
       "      <th>cement</th>\n",
       "      <th>blast_furnace_slag</th>\n",
       "      <th>fly_ash</th>\n",
       "      <th>water</th>\n",
       "      <th>superplasticizer</th>\n",
       "      <th>coarse_aggregate</th>\n",
       "      <th>fine_aggregate</th>\n",
       "      <th>age</th>\n",
       "      <th>concrete_compressive_strength</th>\n",
       "    </tr>\n",
       "  </thead>\n",
       "  <tbody>\n",
       "    <tr>\n",
       "      <th>0</th>\n",
       "      <td>540.0</td>\n",
       "      <td>0.0</td>\n",
       "      <td>0.0</td>\n",
       "      <td>162.0</td>\n",
       "      <td>2.5</td>\n",
       "      <td>1040.0</td>\n",
       "      <td>676.0</td>\n",
       "      <td>28</td>\n",
       "      <td>79.99</td>\n",
       "    </tr>\n",
       "    <tr>\n",
       "      <th>1</th>\n",
       "      <td>540.0</td>\n",
       "      <td>0.0</td>\n",
       "      <td>0.0</td>\n",
       "      <td>162.0</td>\n",
       "      <td>2.5</td>\n",
       "      <td>1055.0</td>\n",
       "      <td>676.0</td>\n",
       "      <td>28</td>\n",
       "      <td>61.89</td>\n",
       "    </tr>\n",
       "    <tr>\n",
       "      <th>2</th>\n",
       "      <td>332.5</td>\n",
       "      <td>142.5</td>\n",
       "      <td>0.0</td>\n",
       "      <td>228.0</td>\n",
       "      <td>0.0</td>\n",
       "      <td>932.0</td>\n",
       "      <td>594.0</td>\n",
       "      <td>270</td>\n",
       "      <td>40.27</td>\n",
       "    </tr>\n",
       "    <tr>\n",
       "      <th>3</th>\n",
       "      <td>332.5</td>\n",
       "      <td>142.5</td>\n",
       "      <td>0.0</td>\n",
       "      <td>228.0</td>\n",
       "      <td>0.0</td>\n",
       "      <td>932.0</td>\n",
       "      <td>594.0</td>\n",
       "      <td>365</td>\n",
       "      <td>41.05</td>\n",
       "    </tr>\n",
       "    <tr>\n",
       "      <th>4</th>\n",
       "      <td>198.6</td>\n",
       "      <td>132.4</td>\n",
       "      <td>0.0</td>\n",
       "      <td>192.0</td>\n",
       "      <td>0.0</td>\n",
       "      <td>978.4</td>\n",
       "      <td>825.5</td>\n",
       "      <td>360</td>\n",
       "      <td>44.30</td>\n",
       "    </tr>\n",
       "  </tbody>\n",
       "</table>\n",
       "</div>"
      ],
      "text/plain": [
       "   cement  blast_furnace_slag  fly_ash  water  superplasticizer  \\\n",
       "0   540.0                 0.0      0.0  162.0               2.5   \n",
       "1   540.0                 0.0      0.0  162.0               2.5   \n",
       "2   332.5               142.5      0.0  228.0               0.0   \n",
       "3   332.5               142.5      0.0  228.0               0.0   \n",
       "4   198.6               132.4      0.0  192.0               0.0   \n",
       "\n",
       "   coarse_aggregate  fine_aggregate   age  concrete_compressive_strength  \n",
       "0            1040.0            676.0   28                          79.99  \n",
       "1            1055.0            676.0   28                          61.89  \n",
       "2             932.0            594.0  270                          40.27  \n",
       "3             932.0            594.0  365                          41.05  \n",
       "4             978.4            825.5  360                          44.30  "
      ]
     },
     "execution_count": 3,
     "metadata": {},
     "output_type": "execute_result"
    }
   ],
   "source": [
    "df.head()"
   ]
  },
  {
   "cell_type": "code",
   "execution_count": 4,
   "id": "79187b1b",
   "metadata": {},
   "outputs": [
    {
     "data": {
      "text/plain": [
       "(1030, 9)"
      ]
     },
     "execution_count": 4,
     "metadata": {},
     "output_type": "execute_result"
    }
   ],
   "source": [
    "df.shape"
   ]
  },
  {
   "cell_type": "code",
   "execution_count": 5,
   "id": "7acaad30",
   "metadata": {},
   "outputs": [
    {
     "data": {
      "text/plain": [
       "Index(['cement', 'blast_furnace_slag', 'fly_ash', 'water', 'superplasticizer',\n",
       "       'coarse_aggregate', 'fine_aggregate ', 'age',\n",
       "       'concrete_compressive_strength'],\n",
       "      dtype='object')"
      ]
     },
     "execution_count": 5,
     "metadata": {},
     "output_type": "execute_result"
    }
   ],
   "source": [
    "df.columns"
   ]
  },
  {
   "cell_type": "code",
   "execution_count": 6,
   "id": "c14b300d",
   "metadata": {},
   "outputs": [
    {
     "data": {
      "text/plain": [
       "cement                           0\n",
       "blast_furnace_slag               0\n",
       "fly_ash                          0\n",
       "water                            0\n",
       "superplasticizer                 0\n",
       "coarse_aggregate                 0\n",
       "fine_aggregate                   0\n",
       "age                              0\n",
       "concrete_compressive_strength    0\n",
       "dtype: int64"
      ]
     },
     "execution_count": 6,
     "metadata": {},
     "output_type": "execute_result"
    }
   ],
   "source": [
    "df.isnull().sum()"
   ]
  },
  {
   "cell_type": "code",
   "execution_count": 7,
   "id": "e7437a8c",
   "metadata": {},
   "outputs": [
    {
     "data": {
      "text/html": [
       "<div>\n",
       "<style scoped>\n",
       "    .dataframe tbody tr th:only-of-type {\n",
       "        vertical-align: middle;\n",
       "    }\n",
       "\n",
       "    .dataframe tbody tr th {\n",
       "        vertical-align: top;\n",
       "    }\n",
       "\n",
       "    .dataframe thead th {\n",
       "        text-align: right;\n",
       "    }\n",
       "</style>\n",
       "<table border=\"1\" class=\"dataframe\">\n",
       "  <thead>\n",
       "    <tr style=\"text-align: right;\">\n",
       "      <th></th>\n",
       "      <th>cement</th>\n",
       "      <th>blast_furnace_slag</th>\n",
       "      <th>fly_ash</th>\n",
       "      <th>water</th>\n",
       "      <th>superplasticizer</th>\n",
       "      <th>coarse_aggregate</th>\n",
       "      <th>fine_aggregate</th>\n",
       "      <th>age</th>\n",
       "      <th>concrete_compressive_strength</th>\n",
       "    </tr>\n",
       "  </thead>\n",
       "  <tbody>\n",
       "    <tr>\n",
       "      <th>cement</th>\n",
       "      <td>1.000000</td>\n",
       "      <td>-0.275216</td>\n",
       "      <td>-0.397467</td>\n",
       "      <td>-0.081587</td>\n",
       "      <td>0.092386</td>\n",
       "      <td>-0.109349</td>\n",
       "      <td>-0.222718</td>\n",
       "      <td>0.081946</td>\n",
       "      <td>0.497832</td>\n",
       "    </tr>\n",
       "    <tr>\n",
       "      <th>blast_furnace_slag</th>\n",
       "      <td>-0.275216</td>\n",
       "      <td>1.000000</td>\n",
       "      <td>-0.323580</td>\n",
       "      <td>0.107252</td>\n",
       "      <td>0.043270</td>\n",
       "      <td>-0.283999</td>\n",
       "      <td>-0.281603</td>\n",
       "      <td>-0.044246</td>\n",
       "      <td>0.134829</td>\n",
       "    </tr>\n",
       "    <tr>\n",
       "      <th>fly_ash</th>\n",
       "      <td>-0.397467</td>\n",
       "      <td>-0.323580</td>\n",
       "      <td>1.000000</td>\n",
       "      <td>-0.256984</td>\n",
       "      <td>0.377503</td>\n",
       "      <td>-0.009961</td>\n",
       "      <td>0.079108</td>\n",
       "      <td>-0.154371</td>\n",
       "      <td>-0.105755</td>\n",
       "    </tr>\n",
       "    <tr>\n",
       "      <th>water</th>\n",
       "      <td>-0.081587</td>\n",
       "      <td>0.107252</td>\n",
       "      <td>-0.256984</td>\n",
       "      <td>1.000000</td>\n",
       "      <td>-0.657533</td>\n",
       "      <td>-0.182294</td>\n",
       "      <td>-0.450661</td>\n",
       "      <td>0.277618</td>\n",
       "      <td>-0.289633</td>\n",
       "    </tr>\n",
       "    <tr>\n",
       "      <th>superplasticizer</th>\n",
       "      <td>0.092386</td>\n",
       "      <td>0.043270</td>\n",
       "      <td>0.377503</td>\n",
       "      <td>-0.657533</td>\n",
       "      <td>1.000000</td>\n",
       "      <td>-0.265999</td>\n",
       "      <td>0.222691</td>\n",
       "      <td>-0.192700</td>\n",
       "      <td>0.366079</td>\n",
       "    </tr>\n",
       "    <tr>\n",
       "      <th>coarse_aggregate</th>\n",
       "      <td>-0.109349</td>\n",
       "      <td>-0.283999</td>\n",
       "      <td>-0.009961</td>\n",
       "      <td>-0.182294</td>\n",
       "      <td>-0.265999</td>\n",
       "      <td>1.000000</td>\n",
       "      <td>-0.178481</td>\n",
       "      <td>-0.003016</td>\n",
       "      <td>-0.164935</td>\n",
       "    </tr>\n",
       "    <tr>\n",
       "      <th>fine_aggregate</th>\n",
       "      <td>-0.222718</td>\n",
       "      <td>-0.281603</td>\n",
       "      <td>0.079108</td>\n",
       "      <td>-0.450661</td>\n",
       "      <td>0.222691</td>\n",
       "      <td>-0.178481</td>\n",
       "      <td>1.000000</td>\n",
       "      <td>-0.156095</td>\n",
       "      <td>-0.167241</td>\n",
       "    </tr>\n",
       "    <tr>\n",
       "      <th>age</th>\n",
       "      <td>0.081946</td>\n",
       "      <td>-0.044246</td>\n",
       "      <td>-0.154371</td>\n",
       "      <td>0.277618</td>\n",
       "      <td>-0.192700</td>\n",
       "      <td>-0.003016</td>\n",
       "      <td>-0.156095</td>\n",
       "      <td>1.000000</td>\n",
       "      <td>0.328873</td>\n",
       "    </tr>\n",
       "    <tr>\n",
       "      <th>concrete_compressive_strength</th>\n",
       "      <td>0.497832</td>\n",
       "      <td>0.134829</td>\n",
       "      <td>-0.105755</td>\n",
       "      <td>-0.289633</td>\n",
       "      <td>0.366079</td>\n",
       "      <td>-0.164935</td>\n",
       "      <td>-0.167241</td>\n",
       "      <td>0.328873</td>\n",
       "      <td>1.000000</td>\n",
       "    </tr>\n",
       "  </tbody>\n",
       "</table>\n",
       "</div>"
      ],
      "text/plain": [
       "                                 cement  blast_furnace_slag   fly_ash  \\\n",
       "cement                         1.000000           -0.275216 -0.397467   \n",
       "blast_furnace_slag            -0.275216            1.000000 -0.323580   \n",
       "fly_ash                       -0.397467           -0.323580  1.000000   \n",
       "water                         -0.081587            0.107252 -0.256984   \n",
       "superplasticizer               0.092386            0.043270  0.377503   \n",
       "coarse_aggregate              -0.109349           -0.283999 -0.009961   \n",
       "fine_aggregate                -0.222718           -0.281603  0.079108   \n",
       "age                            0.081946           -0.044246 -0.154371   \n",
       "concrete_compressive_strength  0.497832            0.134829 -0.105755   \n",
       "\n",
       "                                  water  superplasticizer  coarse_aggregate  \\\n",
       "cement                        -0.081587          0.092386         -0.109349   \n",
       "blast_furnace_slag             0.107252          0.043270         -0.283999   \n",
       "fly_ash                       -0.256984          0.377503         -0.009961   \n",
       "water                          1.000000         -0.657533         -0.182294   \n",
       "superplasticizer              -0.657533          1.000000         -0.265999   \n",
       "coarse_aggregate              -0.182294         -0.265999          1.000000   \n",
       "fine_aggregate                -0.450661          0.222691         -0.178481   \n",
       "age                            0.277618         -0.192700         -0.003016   \n",
       "concrete_compressive_strength -0.289633          0.366079         -0.164935   \n",
       "\n",
       "                               fine_aggregate        age  \\\n",
       "cement                               -0.222718  0.081946   \n",
       "blast_furnace_slag                   -0.281603 -0.044246   \n",
       "fly_ash                               0.079108 -0.154371   \n",
       "water                                -0.450661  0.277618   \n",
       "superplasticizer                      0.222691 -0.192700   \n",
       "coarse_aggregate                     -0.178481 -0.003016   \n",
       "fine_aggregate                        1.000000 -0.156095   \n",
       "age                                  -0.156095  1.000000   \n",
       "concrete_compressive_strength        -0.167241  0.328873   \n",
       "\n",
       "                               concrete_compressive_strength  \n",
       "cement                                              0.497832  \n",
       "blast_furnace_slag                                  0.134829  \n",
       "fly_ash                                            -0.105755  \n",
       "water                                              -0.289633  \n",
       "superplasticizer                                    0.366079  \n",
       "coarse_aggregate                                   -0.164935  \n",
       "fine_aggregate                                     -0.167241  \n",
       "age                                                 0.328873  \n",
       "concrete_compressive_strength                       1.000000  "
      ]
     },
     "execution_count": 7,
     "metadata": {},
     "output_type": "execute_result"
    }
   ],
   "source": [
    "df.corr()"
   ]
  },
  {
   "cell_type": "code",
   "execution_count": 8,
   "id": "42a8c222",
   "metadata": {},
   "outputs": [
    {
     "data": {
      "text/plain": [
       "Text(0.5, 1.0, 'correlation among the columns')"
      ]
     },
     "execution_count": 8,
     "metadata": {},
     "output_type": "execute_result"
    },
    {
     "data": {
      "image/png": "[encoded data removed]",
      "text/plain": [
       "<Figure size 1008x504 with 2 Axes>"
      ]
     },
     "metadata": {
      "needs_background": "light"
     },
     "output_type": "display_data"
    }
   ],
   "source": [
    "plt.figure(figsize=(14,7))\n",
    "sns.heatmap(df.corr(),cmap=\"YlGnBu\", annot=True)\n",
    "plt.title(\"correlation among the columns\")"
   ]
  },
  {
   "cell_type": "code",
   "execution_count": 9,
   "id": "5b50b11a",
   "metadata": {},
   "outputs": [
    {
     "data": {
      "text/plain": [
       "<AxesSubplot:xlabel='concrete_compressive_strength', ylabel='age'>"
      ]
     },
     "execution_count": 9,
     "metadata": {},
     "output_type": "execute_result"
    },
    {
     "data": {
      "image/png": "[encoded data removed]",
      "text/plain": [
       "<Figure size 432x288 with 1 Axes>"
      ]
     },
     "metadata": {
      "needs_background": "light"
     },
     "output_type": "display_data"
    }
   ],
   "source": [
    "sns.regplot(x=df['concrete_compressive_strength'], y=df['age'])"
   ]
  },
  {
   "cell_type": "code",
   "execution_count": 10,
   "id": "e446e8e3",
   "metadata": {},
   "outputs": [
    {
     "data": {
      "text/plain": [
       "Text(0.5, 1.0, 'age vs concrete_compressive_strength')"
      ]
     },
     "execution_count": 10,
     "metadata": {},
     "output_type": "execute_result"
    },
    {
     "data": {
      "image/png": "[encoded data removed]",
      "text/plain": [
       "<Figure size 432x288 with 1 Axes>"
      ]
     },
     "metadata": {
      "needs_background": "light"
     },
     "output_type": "display_data"
    }
   ],
   "source": [
    "sns.lineplot(y=df['concrete_compressive_strength'],x=df['age'])\n",
    "plt.title(\"age vs concrete_compressive_strength\")"
   ]
  },
  {
   "cell_type": "code",
   "execution_count": 11,
   "id": "f04b22e8",
   "metadata": {},
   "outputs": [
    {
     "data": {
      "text/plain": [
       "<AxesSubplot:xlabel='cement', ylabel='Density'>"
      ]
     },
     "execution_count": 11,
     "metadata": {},
     "output_type": "execute_result"
    },
    {
     "data": {
      "image/png": "[encoded data removed]",
      "text/plain": [
       "<Figure size 432x288 with 1 Axes>"
      ]
     },
     "metadata": {
      "needs_background": "light"
     },
     "output_type": "display_data"
    }
   ],
   "source": [
    "# KDE plots for each species\n",
    "sns.kdeplot(data=df['cement'], label=\"cement\", shade=True)"
   ]
  },
  {
   "cell_type": "code",
   "execution_count": 12,
   "id": "698d93c0",
   "metadata": {},
   "outputs": [
    {
     "data": {
      "text/plain": [
       "<AxesSubplot:xlabel='blast_furnace_slag', ylabel='Density'>"
      ]
     },
     "execution_count": 12,
     "metadata": {},
     "output_type": "execute_result"
    },
    {
     "data": {
      "image/png": "[encoded data removed]",
      "text/plain": [
       "<Figure size 432x288 with 1 Axes>"
      ]
     },
     "metadata": {
      "needs_background": "light"
     },
     "output_type": "display_data"
    }
   ],
   "source": [
    "sns.kdeplot(data=df['blast_furnace_slag'], label=\"blast_furnace_slag\", shade=True)"
   ]
  },
  {
   "cell_type": "code",
   "execution_count": 13,
   "id": "bf1220e9",
   "metadata": {},
   "outputs": [
    {
     "data": {
      "text/plain": [
       "<AxesSubplot:xlabel='water', ylabel='Density'>"
      ]
     },
     "execution_count": 13,
     "metadata": {},
     "output_type": "execute_result"
    },
    {
     "data": {
      "image/png": "[encoded data removed]",
      "text/plain": [
       "<Figure size 432x288 with 1 Axes>"
      ]
     },
     "metadata": {
      "needs_background": "light"
     },
     "output_type": "display_data"
    }
   ],
   "source": [
    "sns.kdeplot(data=df['water'], label=\"water\", shade=True)"
   ]
  },
  {
   "cell_type": "code",
   "execution_count": 14,
   "id": "6022cef2",
   "metadata": {},
   "outputs": [
    {
     "data": {
      "text/plain": [
       "<AxesSubplot:xlabel='fly_ash', ylabel='Density'>"
      ]
     },
     "execution_count": 14,
     "metadata": {},
     "output_type": "execute_result"
    },
    {
     "data": {
      "image/png": "[encoded data removed]",
      "text/plain": [
       "<Figure size 432x288 with 1 Axes>"
      ]
     },
     "metadata": {
      "needs_background": "light"
     },
     "output_type": "display_data"
    }
   ],
   "source": [
    "sns.kdeplot(data=df['fly_ash'], label=\"fly_ash\", shade=True)"
   ]
  },
  {
   "cell_type": "code",
   "execution_count": 15,
   "id": "7fee8e55",
   "metadata": {},
   "outputs": [
    {
     "data": {
      "text/plain": [
       "<AxesSubplot:xlabel='age', ylabel='Density'>"
      ]
     },
     "execution_count": 15,
     "metadata": {},
     "output_type": "execute_result"
    },
    {
     "data": {
      "image/png": "[encoded data removed]",
      "text/plain": [
       "<Figure size 432x288 with 1 Axes>"
      ]
     },
     "metadata": {
      "needs_background": "light"
     },
     "output_type": "display_data"
    }
   ],
   "source": [
    "sns.kdeplot(data=df['age'], label=\"age\", shade=True)"
   ]
  },
  {
   "cell_type": "code",
   "execution_count": 16,
   "id": "692eeb5f",
   "metadata": {},
   "outputs": [
    {
     "name": "stderr",
     "output_type": "stream",
     "text": [
      "C:\\Users\\sanje\\anaconda3\\lib\\site-packages\\seaborn\\_decorators.py:36: FutureWarning: Pass the following variable as a keyword arg: x. From version 0.12, the only valid positional argument will be `data`, and passing other arguments without an explicit keyword will result in an error or misinterpretation.\n",
      "  warnings.warn(\n"
     ]
    },
    {
     "data": {
      "text/plain": [
       "<AxesSubplot:xlabel='age'>"
      ]
     },
     "execution_count": 16,
     "metadata": {},
     "output_type": "execute_result"
    },
    {
     "data": {
      "image/png": "[encoded data removed]",
      "text/plain": [
       "<Figure size 432x288 with 1 Axes>"
      ]
     },
     "metadata": {
      "needs_background": "light"
     },
     "output_type": "display_data"
    }
   ],
   "source": [
    "sns.boxplot(df['age'])"
   ]
  },
  {
   "cell_type": "code",
   "execution_count": 17,
   "id": "30fe04d8",
   "metadata": {},
   "outputs": [
    {
     "name": "stdout",
     "output_type": "stream",
     "text": [
      "\n",
      "Outliers of cement : []\n",
      "\n",
      "Outliers of blast_furnace_slag : [359.4, 359.4]\n",
      "\n",
      "Outliers of fly_ash : [359.4, 359.4]\n",
      "\n",
      "Outliers of water : [359.4, 359.4, 121.8, 121.8, 121.8, 121.8, 121.8, 237.0, 247.0, 246.9, 236.7]\n",
      "\n",
      "Outliers of superplasticizer : [359.4, 359.4, 121.8, 121.8, 121.8, 121.8, 121.8, 237.0, 247.0, 246.9, 236.7, 32.2, 28.2, 32.2, 28.2, 32.2, 28.2, 32.2, 28.2, 32.2, 28.2]\n",
      "\n",
      "Outliers of coarse_aggregate : [359.4, 359.4, 121.8, 121.8, 121.8, 121.8, 121.8, 237.0, 247.0, 246.9, 236.7, 32.2, 28.2, 32.2, 28.2, 32.2, 28.2, 32.2, 28.2, 32.2, 28.2]\n",
      "\n",
      "Outliers of fine_aggregate  : [359.4, 359.4, 121.8, 121.8, 121.8, 121.8, 121.8, 237.0, 247.0, 246.9, 236.7, 32.2, 28.2, 32.2, 28.2, 32.2, 28.2, 32.2, 28.2, 32.2, 28.2, 992.6, 992.6, 992.6, 992.6, 992.6]\n",
      "\n",
      "Outliers of age : [359.4, 359.4, 121.8, 121.8, 121.8, 121.8, 121.8, 237.0, 247.0, 246.9, 236.7, 32.2, 28.2, 32.2, 28.2, 32.2, 28.2, 32.2, 28.2, 32.2, 28.2, 992.6, 992.6, 992.6, 992.6, 992.6, 270, 365, 360, 365, 270, 365, 180, 180, 180, 365, 270, 270, 180, 365, 365, 180, 270, 365, 270, 180, 365, 365, 180, 180, 180, 180, 365, 180, 270, 270, 270, 180, 270, 360, 180, 365, 180, 365, 180, 360, 180, 365, 180, 365, 180, 270, 180, 180, 360, 180, 360, 180, 180, 180, 270, 180, 360, 270, 180]\n",
      "\n",
      "Outliers of concrete_compressive_strength : [359.4, 359.4, 121.8, 121.8, 121.8, 121.8, 121.8, 237.0, 247.0, 246.9, 236.7, 32.2, 28.2, 32.2, 28.2, 32.2, 28.2, 32.2, 28.2, 32.2, 28.2, 992.6, 992.6, 992.6, 992.6, 992.6, 270, 365, 360, 365, 270, 365, 180, 180, 180, 365, 270, 270, 180, 365, 365, 180, 270, 365, 270, 180, 365, 365, 180, 180, 180, 180, 365, 180, 270, 270, 270, 180, 270, 360, 180, 365, 180, 365, 180, 360, 180, 365, 180, 365, 180, 270, 180, 180, 360, 180, 360, 180, 180, 180, 270, 180, 360, 270, 180, 79.99, 80.2, 82.6, 81.75]\n"
     ]
    }
   ],
   "source": [
    "out=[]\n",
    "def iqr_outliers(df,name):\n",
    "    q1 = df.quantile(0.25)\n",
    "    q3 = df.quantile(0.75)\n",
    "    iqr = q3-q1\n",
    "    Lower_tail = q1 - 1.5 * iqr\n",
    "    Upper_tail = q3 + 1.5 * iqr\n",
    "    for i in df:\n",
    "        if i > Upper_tail or i < Lower_tail:\n",
    "            out.append(i)\n",
    "    print(\"\\nOutliers of\",name,\":\",out)\n",
    "for i in df.columns:\n",
    "    iqr_outliers(df[i],i)"
   ]
  },
  {
   "cell_type": "code",
   "execution_count": 18,
   "id": "ba9cef2b",
   "metadata": {},
   "outputs": [],
   "source": [
    "def drop_outliers(df,field_name):\n",
    "    iqr = 1.5 * (np.percentile(df[field_name], 75) - np.percentile(df[field_name], 25))\n",
    "    df.drop(df[df[field_name] > (iqr + np.percentile(df[field_name], 75))].index, inplace=True)\n",
    "    df.drop(df[df[field_name] < (np.percentile(df[field_name], 25) - iqr)].index, inplace=True)\n",
    "drop_outliers(df,'blast_furnace_slag')\n",
    "drop_outliers(df,'fly_ash')\n",
    "drop_outliers(df,'water')\n",
    "drop_outliers(df,'superplasticizer')\n",
    "drop_outliers(df,'coarse_aggregate')"
   ]
  },
  {
   "cell_type": "code",
   "execution_count": 19,
   "id": "674cd446",
   "metadata": {},
   "outputs": [
    {
     "name": "stderr",
     "output_type": "stream",
     "text": [
      "C:\\Users\\sanje\\anaconda3\\lib\\site-packages\\seaborn\\_decorators.py:36: FutureWarning: Pass the following variable as a keyword arg: x. From version 0.12, the only valid positional argument will be `data`, and passing other arguments without an explicit keyword will result in an error or misinterpretation.\n",
      "  warnings.warn(\n"
     ]
    },
    {
     "data": {
      "text/plain": [
       "<AxesSubplot:xlabel='age'>"
      ]
     },
     "execution_count": 19,
     "metadata": {},
     "output_type": "execute_result"
    },
    {
     "data": {
      "image/png": "[encoded data removed]",
      "text/plain": [
       "<Figure size 432x288 with 1 Axes>"
      ]
     },
     "metadata": {
      "needs_background": "light"
     },
     "output_type": "display_data"
    }
   ],
   "source": [
    "sns.boxplot(df['age'])"
   ]
  },
  {
   "cell_type": "code",
   "execution_count": 20,
   "id": "18c00a7a",
   "metadata": {},
   "outputs": [
    {
     "name": "stdout",
     "output_type": "stream",
     "text": [
      "\n",
      "Outliers of cement : []\n",
      "\n",
      "Outliers of blast_furnace_slag : []\n",
      "\n",
      "Outliers of fly_ash : []\n",
      "\n",
      "Outliers of water : []\n",
      "\n",
      "Outliers of superplasticizer : []\n",
      "\n",
      "Outliers of coarse_aggregate : []\n",
      "\n",
      "Outliers of fine_aggregate  : [594.0, 594.0, 594.0, 594.0, 594.0, 594.0, 594.0, 594.0, 594.0, 594.0, 594.0, 594.0, 594.0, 594.0, 594.0, 594.0, 594.0, 594.0, 594.0, 594.0, 594.0, 594.0, 594.0, 594.0, 594.0, 594.0, 594.0, 594.0, 594.0, 594.0, 992.6, 992.6, 992.6, 992.6, 992.6]\n",
      "\n",
      "Outliers of age : [594.0, 594.0, 594.0, 594.0, 594.0, 594.0, 594.0, 594.0, 594.0, 594.0, 594.0, 594.0, 594.0, 594.0, 594.0, 594.0, 594.0, 594.0, 594.0, 594.0, 594.0, 594.0, 594.0, 594.0, 594.0, 594.0, 594.0, 594.0, 594.0, 594.0, 992.6, 992.6, 992.6, 992.6, 992.6, 270, 365, 360, 365, 270, 365, 180, 180, 180, 365, 270, 270, 180, 365, 365, 180, 270, 365, 270, 180, 365, 365, 180, 180, 180, 180, 365, 180, 270, 270, 270, 180, 270, 360, 180, 365, 180, 365, 180, 360, 180, 365, 180, 365, 180, 270, 180, 180, 360, 180, 360, 180, 180, 180, 270, 180, 360, 270, 180]\n",
      "\n",
      "Outliers of concrete_compressive_strength : [594.0, 594.0, 594.0, 594.0, 594.0, 594.0, 594.0, 594.0, 594.0, 594.0, 594.0, 594.0, 594.0, 594.0, 594.0, 594.0, 594.0, 594.0, 594.0, 594.0, 594.0, 594.0, 594.0, 594.0, 594.0, 594.0, 594.0, 594.0, 594.0, 594.0, 992.6, 992.6, 992.6, 992.6, 992.6, 270, 365, 360, 365, 270, 365, 180, 180, 180, 365, 270, 270, 180, 365, 365, 180, 270, 365, 270, 180, 365, 365, 180, 180, 180, 180, 365, 180, 270, 270, 270, 180, 270, 360, 180, 365, 180, 365, 180, 360, 180, 365, 180, 365, 180, 270, 180, 180, 360, 180, 360, 180, 180, 180, 270, 180, 360, 270, 180, 79.99, 80.2, 79.4, 82.6, 81.75]\n"
     ]
    }
   ],
   "source": [
    "out=[]\n",
    "def iqr_outliers(df,name):\n",
    "    q1 = df.quantile(0.25)\n",
    "    q3 = df.quantile(0.75)\n",
    "    iqr = q3-q1\n",
    "    Lower_tail = q1 - 1.5 * iqr\n",
    "    Upper_tail = q3 + 1.5 * iqr\n",
    "    for i in df:\n",
    "        if i > Upper_tail or i < Lower_tail:\n",
    "            out.append(i)\n",
    "    print(\"\\nOutliers of\",name,\":\",out)\n",
    "for i in df.columns:\n",
    "    iqr_outliers(df[i],i)"
   ]
  },
  {
   "cell_type": "code",
   "execution_count": 21,
   "id": "a9a77585",
   "metadata": {},
   "outputs": [
    {
     "data": {
      "text/plain": [
       "(1009, 9)"
      ]
     },
     "execution_count": 21,
     "metadata": {},
     "output_type": "execute_result"
    }
   ],
   "source": [
    "df.shape"
   ]
  },
  {
   "cell_type": "code",
   "execution_count": 22,
   "id": "1da7b264",
   "metadata": {},
   "outputs": [
    {
     "data": {
      "text/plain": [
       "<AxesSubplot:xlabel='coarse_aggregate', ylabel='Density'>"
      ]
     },
     "execution_count": 22,
     "metadata": {},
     "output_type": "execute_result"
    },
    {
     "data": {
      "image/png": "[encoded data removed]",
      "text/plain": [
       "<Figure size 432x288 with 1 Axes>"
      ]
     },
     "metadata": {
      "needs_background": "light"
     },
     "output_type": "display_data"
    }
   ],
   "source": [
    "sns.kdeplot(data=df['coarse_aggregate'], label=\"coarse_aggregate\", shade=True)"
   ]
  },
  {
   "cell_type": "code",
   "execution_count": 23,
   "id": "06636fb8",
   "metadata": {},
   "outputs": [
    {
     "data": {
      "text/html": [
       "<div>\n",
       "<style scoped>\n",
       "    .dataframe tbody tr th:only-of-type {\n",
       "        vertical-align: middle;\n",
       "    }\n",
       "\n",
       "    .dataframe tbody tr th {\n",
       "        vertical-align: top;\n",
       "    }\n",
       "\n",
       "    .dataframe thead th {\n",
       "        text-align: right;\n",
       "    }\n",
       "</style>\n",
       "<table border=\"1\" class=\"dataframe\">\n",
       "  <thead>\n",
       "    <tr style=\"text-align: right;\">\n",
       "      <th></th>\n",
       "      <th>cement</th>\n",
       "      <th>blast_furnace_slag</th>\n",
       "      <th>fly_ash</th>\n",
       "      <th>water</th>\n",
       "      <th>superplasticizer</th>\n",
       "      <th>coarse_aggregate</th>\n",
       "      <th>fine_aggregate</th>\n",
       "      <th>age</th>\n",
       "    </tr>\n",
       "  </thead>\n",
       "  <tbody>\n",
       "    <tr>\n",
       "      <th>0</th>\n",
       "      <td>540.0</td>\n",
       "      <td>0.0</td>\n",
       "      <td>0.0</td>\n",
       "      <td>162.0</td>\n",
       "      <td>2.5</td>\n",
       "      <td>1040.0</td>\n",
       "      <td>676.0</td>\n",
       "      <td>28</td>\n",
       "    </tr>\n",
       "    <tr>\n",
       "      <th>1</th>\n",
       "      <td>540.0</td>\n",
       "      <td>0.0</td>\n",
       "      <td>0.0</td>\n",
       "      <td>162.0</td>\n",
       "      <td>2.5</td>\n",
       "      <td>1055.0</td>\n",
       "      <td>676.0</td>\n",
       "      <td>28</td>\n",
       "    </tr>\n",
       "    <tr>\n",
       "      <th>2</th>\n",
       "      <td>332.5</td>\n",
       "      <td>142.5</td>\n",
       "      <td>0.0</td>\n",
       "      <td>228.0</td>\n",
       "      <td>0.0</td>\n",
       "      <td>932.0</td>\n",
       "      <td>594.0</td>\n",
       "      <td>270</td>\n",
       "    </tr>\n",
       "    <tr>\n",
       "      <th>3</th>\n",
       "      <td>332.5</td>\n",
       "      <td>142.5</td>\n",
       "      <td>0.0</td>\n",
       "      <td>228.0</td>\n",
       "      <td>0.0</td>\n",
       "      <td>932.0</td>\n",
       "      <td>594.0</td>\n",
       "      <td>365</td>\n",
       "    </tr>\n",
       "    <tr>\n",
       "      <th>4</th>\n",
       "      <td>198.6</td>\n",
       "      <td>132.4</td>\n",
       "      <td>0.0</td>\n",
       "      <td>192.0</td>\n",
       "      <td>0.0</td>\n",
       "      <td>978.4</td>\n",
       "      <td>825.5</td>\n",
       "      <td>360</td>\n",
       "    </tr>\n",
       "    <tr>\n",
       "      <th>...</th>\n",
       "      <td>...</td>\n",
       "      <td>...</td>\n",
       "      <td>...</td>\n",
       "      <td>...</td>\n",
       "      <td>...</td>\n",
       "      <td>...</td>\n",
       "      <td>...</td>\n",
       "      <td>...</td>\n",
       "    </tr>\n",
       "    <tr>\n",
       "      <th>1025</th>\n",
       "      <td>276.4</td>\n",
       "      <td>116.0</td>\n",
       "      <td>90.3</td>\n",
       "      <td>179.6</td>\n",
       "      <td>8.9</td>\n",
       "      <td>870.1</td>\n",
       "      <td>768.3</td>\n",
       "      <td>28</td>\n",
       "    </tr>\n",
       "    <tr>\n",
       "      <th>1026</th>\n",
       "      <td>322.2</td>\n",
       "      <td>0.0</td>\n",
       "      <td>115.6</td>\n",
       "      <td>196.0</td>\n",
       "      <td>10.4</td>\n",
       "      <td>817.9</td>\n",
       "      <td>813.4</td>\n",
       "      <td>28</td>\n",
       "    </tr>\n",
       "    <tr>\n",
       "      <th>1027</th>\n",
       "      <td>148.5</td>\n",
       "      <td>139.4</td>\n",
       "      <td>108.6</td>\n",
       "      <td>192.7</td>\n",
       "      <td>6.1</td>\n",
       "      <td>892.4</td>\n",
       "      <td>780.0</td>\n",
       "      <td>28</td>\n",
       "    </tr>\n",
       "    <tr>\n",
       "      <th>1028</th>\n",
       "      <td>159.1</td>\n",
       "      <td>186.7</td>\n",
       "      <td>0.0</td>\n",
       "      <td>175.6</td>\n",
       "      <td>11.3</td>\n",
       "      <td>989.6</td>\n",
       "      <td>788.9</td>\n",
       "      <td>28</td>\n",
       "    </tr>\n",
       "    <tr>\n",
       "      <th>1029</th>\n",
       "      <td>260.9</td>\n",
       "      <td>100.5</td>\n",
       "      <td>78.3</td>\n",
       "      <td>200.6</td>\n",
       "      <td>8.6</td>\n",
       "      <td>864.5</td>\n",
       "      <td>761.5</td>\n",
       "      <td>28</td>\n",
       "    </tr>\n",
       "  </tbody>\n",
       "</table>\n",
       "<p>1009 rows × 8 columns</p>\n",
       "</div>"
      ],
      "text/plain": [
       "      cement  blast_furnace_slag  fly_ash  water  superplasticizer  \\\n",
       "0      540.0                 0.0      0.0  162.0               2.5   \n",
       "1      540.0                 0.0      0.0  162.0               2.5   \n",
       "2      332.5               142.5      0.0  228.0               0.0   \n",
       "3      332.5               142.5      0.0  228.0               0.0   \n",
       "4      198.6               132.4      0.0  192.0               0.0   \n",
       "...      ...                 ...      ...    ...               ...   \n",
       "1025   276.4               116.0     90.3  179.6               8.9   \n",
       "1026   322.2                 0.0    115.6  196.0              10.4   \n",
       "1027   148.5               139.4    108.6  192.7               6.1   \n",
       "1028   159.1               186.7      0.0  175.6              11.3   \n",
       "1029   260.9               100.5     78.3  200.6               8.6   \n",
       "\n",
       "      coarse_aggregate  fine_aggregate   age  \n",
       "0               1040.0            676.0   28  \n",
       "1               1055.0            676.0   28  \n",
       "2                932.0            594.0  270  \n",
       "3                932.0            594.0  365  \n",
       "4                978.4            825.5  360  \n",
       "...                ...              ...  ...  \n",
       "1025             870.1            768.3   28  \n",
       "1026             817.9            813.4   28  \n",
       "1027             892.4            780.0   28  \n",
       "1028             989.6            788.9   28  \n",
       "1029             864.5            761.5   28  \n",
       "\n",
       "[1009 rows x 8 columns]"
      ]
     },
     "execution_count": 23,
     "metadata": {},
     "output_type": "execute_result"
    }
   ],
   "source": [
    "x=df.drop([\"concrete_compressive_strength\"],axis=1)\n",
    "x"
   ]
  },
  {
   "cell_type": "code",
   "execution_count": 24,
   "id": "1b41f592",
   "metadata": {},
   "outputs": [
    {
     "data": {
      "text/plain": [
       "0       79.99\n",
       "1       61.89\n",
       "2       40.27\n",
       "3       41.05\n",
       "4       44.30\n",
       "        ...  \n",
       "1025    44.28\n",
       "1026    31.18\n",
       "1027    23.70\n",
       "1028    32.77\n",
       "1029    32.40\n",
       "Name: concrete_compressive_strength, Length: 1009, dtype: float64"
      ]
     },
     "execution_count": 24,
     "metadata": {},
     "output_type": "execute_result"
    }
   ],
   "source": [
    "y=df['concrete_compressive_strength']\n",
    "y"
   ]
  },
  {
   "cell_type": "code",
   "execution_count": 25,
   "id": "9e3f40a9",
   "metadata": {},
   "outputs": [],
   "source": [
    "from sklearn.model_selection import train_test_split\n",
    "x_train,x_test,y_train,y_test=train_test_split(x,y,test_size=0.3)"
   ]
  },
  {
   "cell_type": "code",
   "execution_count": 26,
   "id": "d9feb7ab",
   "metadata": {},
   "outputs": [
    {
     "data": {
      "text/html": [
       "<div>\n",
       "<style scoped>\n",
       "    .dataframe tbody tr th:only-of-type {\n",
       "        vertical-align: middle;\n",
       "    }\n",
       "\n",
       "    .dataframe tbody tr th {\n",
       "        vertical-align: top;\n",
       "    }\n",
       "\n",
       "    .dataframe thead th {\n",
       "        text-align: right;\n",
       "    }\n",
       "</style>\n",
       "<table border=\"1\" class=\"dataframe\">\n",
       "  <thead>\n",
       "    <tr style=\"text-align: right;\">\n",
       "      <th></th>\n",
       "      <th>cement</th>\n",
       "      <th>blast_furnace_slag</th>\n",
       "      <th>fly_ash</th>\n",
       "      <th>water</th>\n",
       "      <th>superplasticizer</th>\n",
       "      <th>coarse_aggregate</th>\n",
       "      <th>fine_aggregate</th>\n",
       "      <th>age</th>\n",
       "    </tr>\n",
       "  </thead>\n",
       "  <tbody>\n",
       "    <tr>\n",
       "      <th>450</th>\n",
       "      <td>173.5</td>\n",
       "      <td>50.1</td>\n",
       "      <td>173.5</td>\n",
       "      <td>164.8</td>\n",
       "      <td>6.5</td>\n",
       "      <td>1006.2</td>\n",
       "      <td>793.5</td>\n",
       "      <td>56</td>\n",
       "    </tr>\n",
       "    <tr>\n",
       "      <th>854</th>\n",
       "      <td>287.0</td>\n",
       "      <td>121.0</td>\n",
       "      <td>94.0</td>\n",
       "      <td>188.0</td>\n",
       "      <td>9.0</td>\n",
       "      <td>904.0</td>\n",
       "      <td>696.0</td>\n",
       "      <td>28</td>\n",
       "    </tr>\n",
       "    <tr>\n",
       "      <th>998</th>\n",
       "      <td>304.8</td>\n",
       "      <td>0.0</td>\n",
       "      <td>99.6</td>\n",
       "      <td>196.0</td>\n",
       "      <td>9.8</td>\n",
       "      <td>959.4</td>\n",
       "      <td>705.2</td>\n",
       "      <td>28</td>\n",
       "    </tr>\n",
       "    <tr>\n",
       "      <th>424</th>\n",
       "      <td>173.5</td>\n",
       "      <td>50.1</td>\n",
       "      <td>173.5</td>\n",
       "      <td>164.8</td>\n",
       "      <td>6.5</td>\n",
       "      <td>1006.2</td>\n",
       "      <td>793.5</td>\n",
       "      <td>14</td>\n",
       "    </tr>\n",
       "    <tr>\n",
       "      <th>564</th>\n",
       "      <td>158.8</td>\n",
       "      <td>238.2</td>\n",
       "      <td>0.0</td>\n",
       "      <td>185.7</td>\n",
       "      <td>0.0</td>\n",
       "      <td>1040.6</td>\n",
       "      <td>734.3</td>\n",
       "      <td>28</td>\n",
       "    </tr>\n",
       "    <tr>\n",
       "      <th>...</th>\n",
       "      <td>...</td>\n",
       "      <td>...</td>\n",
       "      <td>...</td>\n",
       "      <td>...</td>\n",
       "      <td>...</td>\n",
       "      <td>...</td>\n",
       "      <td>...</td>\n",
       "      <td>...</td>\n",
       "    </tr>\n",
       "    <tr>\n",
       "      <th>108</th>\n",
       "      <td>379.5</td>\n",
       "      <td>151.2</td>\n",
       "      <td>0.0</td>\n",
       "      <td>153.9</td>\n",
       "      <td>15.9</td>\n",
       "      <td>1134.3</td>\n",
       "      <td>605.0</td>\n",
       "      <td>7</td>\n",
       "    </tr>\n",
       "    <tr>\n",
       "      <th>216</th>\n",
       "      <td>190.3</td>\n",
       "      <td>0.0</td>\n",
       "      <td>125.2</td>\n",
       "      <td>161.9</td>\n",
       "      <td>9.9</td>\n",
       "      <td>1088.1</td>\n",
       "      <td>802.6</td>\n",
       "      <td>28</td>\n",
       "    </tr>\n",
       "    <tr>\n",
       "      <th>713</th>\n",
       "      <td>157.0</td>\n",
       "      <td>236.0</td>\n",
       "      <td>0.0</td>\n",
       "      <td>192.0</td>\n",
       "      <td>0.0</td>\n",
       "      <td>935.4</td>\n",
       "      <td>781.2</td>\n",
       "      <td>3</td>\n",
       "    </tr>\n",
       "    <tr>\n",
       "      <th>134</th>\n",
       "      <td>362.6</td>\n",
       "      <td>189.0</td>\n",
       "      <td>0.0</td>\n",
       "      <td>164.9</td>\n",
       "      <td>11.6</td>\n",
       "      <td>944.7</td>\n",
       "      <td>755.8</td>\n",
       "      <td>28</td>\n",
       "    </tr>\n",
       "    <tr>\n",
       "      <th>372</th>\n",
       "      <td>218.9</td>\n",
       "      <td>0.0</td>\n",
       "      <td>124.1</td>\n",
       "      <td>158.5</td>\n",
       "      <td>11.3</td>\n",
       "      <td>1078.7</td>\n",
       "      <td>794.9</td>\n",
       "      <td>56</td>\n",
       "    </tr>\n",
       "  </tbody>\n",
       "</table>\n",
       "<p>706 rows × 8 columns</p>\n",
       "</div>"
      ],
      "text/plain": [
       "     cement  blast_furnace_slag  fly_ash  water  superplasticizer  \\\n",
       "450   173.5                50.1    173.5  164.8               6.5   \n",
       "854   287.0               121.0     94.0  188.0               9.0   \n",
       "998   304.8                 0.0     99.6  196.0               9.8   \n",
       "424   173.5                50.1    173.5  164.8               6.5   \n",
       "564   158.8               238.2      0.0  185.7               0.0   \n",
       "..      ...                 ...      ...    ...               ...   \n",
       "108   379.5               151.2      0.0  153.9              15.9   \n",
       "216   190.3                 0.0    125.2  161.9               9.9   \n",
       "713   157.0               236.0      0.0  192.0               0.0   \n",
       "134   362.6               189.0      0.0  164.9              11.6   \n",
       "372   218.9                 0.0    124.1  158.5              11.3   \n",
       "\n",
       "     coarse_aggregate  fine_aggregate   age  \n",
       "450            1006.2            793.5   56  \n",
       "854             904.0            696.0   28  \n",
       "998             959.4            705.2   28  \n",
       "424            1006.2            793.5   14  \n",
       "564            1040.6            734.3   28  \n",
       "..                ...              ...  ...  \n",
       "108            1134.3            605.0    7  \n",
       "216            1088.1            802.6   28  \n",
       "713             935.4            781.2    3  \n",
       "134             944.7            755.8   28  \n",
       "372            1078.7            794.9   56  \n",
       "\n",
       "[706 rows x 8 columns]"
      ]
     },
     "execution_count": 26,
     "metadata": {},
     "output_type": "execute_result"
    }
   ],
   "source": [
    "x_train"
   ]
  },
  {
   "cell_type": "code",
   "execution_count": 27,
   "id": "32042f92",
   "metadata": {},
   "outputs": [
    {
     "data": {
      "text/plain": [
       "450    53.77\n",
       "854    41.94\n",
       "998    30.12\n",
       "424    33.01\n",
       "564    21.07\n",
       "       ...  \n",
       "108    47.10\n",
       "216    28.47\n",
       "713     9.69\n",
       "134    71.30\n",
       "372    37.27\n",
       "Name: concrete_compressive_strength, Length: 706, dtype: float64"
      ]
     },
     "execution_count": 27,
     "metadata": {},
     "output_type": "execute_result"
    }
   ],
   "source": [
    "y_train"
   ]
  },
  {
   "cell_type": "code",
   "execution_count": 29,
   "id": "9821cec6",
   "metadata": {},
   "outputs": [],
   "source": [
    "from sklearn.linear_model import LinearRegression,LogisticRegression,Lasso,Ridge\n",
    "from sklearn.preprocessing import PolynomialFeatures\n",
    "from sklearn.metrics import r2_score\n",
    "from sklearn.ensemble import RandomForestRegressor\n",
    "from sklearn.tree import DecisionTreeRegressor\n",
    "from sklearn.metrics import accuracy_score"
   ]
  },
  {
   "cell_type": "code",
   "execution_count": 56,
   "id": "e2b16075",
   "metadata": {},
   "outputs": [],
   "source": [
    "Model_Names=[\"Linear Regression\",\"Lasso\",\"Ridge\",\"RandomForestRegressor\",\"DecisionTreeRegressor\"]\n",
    "Scores=[]"
   ]
  },
  {
   "cell_type": "code",
   "execution_count": 57,
   "id": "4be30921",
   "metadata": {},
   "outputs": [],
   "source": [
    "model1=LinearRegression()\n",
    "model1.fit(x_train,y_train)\n",
    "y_head=model1.predict(x_test)\n",
    "Scores.append(r2_score(y_test,y_head))"
   ]
  },
  {
   "cell_type": "code",
   "execution_count": 58,
   "id": "9279f285",
   "metadata": {},
   "outputs": [],
   "source": [
    "model2=Lasso()\n",
    "model2.fit(x_train,y_train)\n",
    "y_head=model2.predict(x_test)\n",
    "Scores.append(r2_score(y_test,y_head))"
   ]
  },
  {
   "cell_type": "code",
   "execution_count": 59,
   "id": "dcafbd73",
   "metadata": {},
   "outputs": [],
   "source": [
    "model3=Ridge()\n",
    "model3.fit(x_train,y_train)\n",
    "y_head=model3.predict(x_test)\n",
    "Scores.append(r2_score(y_test,y_head))"
   ]
  },
  {
   "cell_type": "code",
   "execution_count": 60,
   "id": "75b288a1",
   "metadata": {},
   "outputs": [
    {
     "data": {
      "text/plain": [
       "0.9044150681338039"
      ]
     },
     "execution_count": 60,
     "metadata": {},
     "output_type": "execute_result"
    }
   ],
   "source": [
    "model4=RandomForestRegressor(n_estimators=100,random_state=42)\n",
    "model4.fit(x_train,y_train)\n",
    "y_head=model4.predict(x_test)\n",
    "Scores.append(r2_score(y_test,y_head))\n",
    "r2_score(y_test,y_head)"
   ]
  },
  {
   "cell_type": "code",
   "execution_count": 61,
   "id": "a0db073f",
   "metadata": {},
   "outputs": [],
   "source": [
    "model5=DecisionTreeRegressor()\n",
    "model5.fit(x_train,y_train)\n",
    "y_head=model5.predict(x_test)\n",
    "Scores.append(r2_score(y_test,y_head))"
   ]
  },
  {
   "cell_type": "code",
   "execution_count": 65,
   "id": "76389377",
   "metadata": {},
   "outputs": [],
   "source": [
    "v=pd.DataFrame({'Model_Names':Model_Names,'Scores':Scores})"
   ]
  },
  {
   "cell_type": "code",
   "execution_count": 66,
   "id": "1b9b598d",
   "metadata": {},
   "outputs": [
    {
     "data": {
      "text/plain": [
       "<AxesSubplot:xlabel='Model_Names', ylabel='Scores'>"
      ]
     },
     "execution_count": 66,
     "metadata": {},
     "output_type": "execute_result"
    },
    {
     "data": {
      "image/png": "[encoded data removed]",
      "text/plain": [
       "<Figure size 432x288 with 1 Axes>"
      ]
     },
     "metadata": {
      "needs_background": "light"
     },
     "output_type": "display_data"
    }
   ],
   "source": [
    "sns.barplot(x=v['Model_Names'],y=v['Scores'])"
   ]
  },
  {
   "cell_type": "code",
   "execution_count": 67,
   "id": "9a58f8c7",
   "metadata": {},
   "outputs": [
    {
     "data": {
      "text/plain": [
       "RandomForestRegressor(random_state=42)"
      ]
     },
     "execution_count": 67,
     "metadata": {},
     "output_type": "execute_result"
    }
   ],
   "source": [
    "model=RandomForestRegressor(n_estimators=100,random_state=42)\n",
    "model.fit(x_train,y_train)"
   ]
  },
  {
   "cell_type": "code",
   "execution_count": 68,
   "id": "1cbd61f6",
   "metadata": {},
   "outputs": [
    {
     "data": {
      "text/plain": [
       "array([15.884     , 41.4556    , 37.2246    , 44.805905  , 15.8558    ,\n",
       "       40.0993    , 45.47401667, 39.7971    , 65.1822    , 42.0082    ,\n",
       "       22.1575    , 31.2837    , 28.4361    , 25.6002    , 48.9864    ,\n",
       "       55.4658    , 16.1924    , 36.8766    , 32.0125    , 36.7993    ,\n",
       "       52.55116667, 60.707975  , 34.2024    , 41.5881    , 38.3504    ,\n",
       "       32.32428333, 11.1705    , 27.8939    , 77.204     ,  5.0691    ,\n",
       "       43.6694    , 36.3635    , 11.2701    , 12.4797    , 21.7737    ,\n",
       "       51.2842    , 54.0257    , 35.0586    , 16.153     , 53.0464    ,\n",
       "       49.9873    , 20.0036    , 33.4485    , 37.6119    , 40.3167    ,\n",
       "       38.506975  , 38.3837    , 39.7352    , 50.4489    , 38.4206    ,\n",
       "       15.394     , 23.8486    , 19.6328    , 19.6083    , 11.7205    ,\n",
       "       17.7929    , 52.4449    , 39.2554    , 39.8171    , 31.0046    ,\n",
       "       16.8506    , 34.9195    , 17.2656    , 47.0538    , 63.69975417,\n",
       "       41.2382    , 64.378     , 14.9909    , 32.7641    , 29.2069    ,\n",
       "       30.7112    , 40.4517    , 11.903     , 14.2333    , 37.6408    ,\n",
       "       23.1127    , 55.622     , 57.9705    , 45.47401667, 37.6968    ,\n",
       "       51.3883    , 39.731     , 29.1351    , 66.3954    , 10.5971    ,\n",
       "       37.0803    , 10.2308    , 17.6819    , 30.3016    , 29.8314    ,\n",
       "       34.3088    , 22.9419    , 26.3303    , 43.9754    , 13.3688    ,\n",
       "       30.1752    , 55.5827    , 42.2976    , 61.3808    , 39.7114    ,\n",
       "       17.6042    , 38.2176    , 38.6954    , 34.21525   , 22.6008    ,\n",
       "       41.2414    , 53.3345    , 33.1671    , 46.8486    , 36.1807    ,\n",
       "       31.9674    , 13.035     , 11.4395    , 43.2247    , 42.2212    ,\n",
       "       39.0728    , 34.3088    , 61.3623    , 42.5494    , 34.0504    ,\n",
       "       37.1722    , 14.7483    , 23.6114    , 71.6549    , 51.1321    ,\n",
       "       28.9795    , 24.706     , 38.7111    , 45.7241    ,  4.6399    ,\n",
       "       21.9869    , 68.7684    , 50.2546    , 54.1856    , 51.7983    ,\n",
       "       41.8736    , 34.033     , 36.19945   , 45.1992    , 21.8562    ,\n",
       "       44.4829    , 64.9172    , 59.9793    , 37.6844    , 26.6742    ,\n",
       "       40.5939    , 33.0979    , 41.336     , 67.2996    , 28.6516    ,\n",
       "       17.3614    , 28.2457    , 31.1327    , 21.1488    , 43.72135   ,\n",
       "       22.4649    , 43.9175    , 13.607     , 41.0253    , 14.8804    ,\n",
       "       23.3858    , 31.3871    , 49.587025  , 14.6391    , 38.4874    ,\n",
       "       35.7767    , 30.53630476, 55.1001    , 26.182     , 17.2606    ,\n",
       "       14.8479    , 59.9793    , 52.5999    , 31.8142    , 49.994475  ,\n",
       "       16.4114    , 54.9551    , 29.6144    , 41.6735    , 34.1241    ,\n",
       "       27.9415    , 24.8303    , 39.8746    , 49.5816    , 34.0399    ,\n",
       "       60.7514    , 21.3663    , 31.3875    , 40.5479    , 37.8951    ,\n",
       "       16.2481    , 24.1449    , 32.1883    , 39.33245   , 50.8562    ,\n",
       "       59.017575  , 32.1014    , 24.3898    , 31.9573    , 40.2122    ,\n",
       "       15.284     , 36.2787    , 26.7585    , 41.2414    , 38.7286    ,\n",
       "       34.3901    , 24.2661    , 58.4854    , 17.5377    , 51.6844    ,\n",
       "       35.9895    , 38.6354    , 41.0199    , 14.502     , 45.47401667,\n",
       "       29.0949    , 42.3578    , 60.5011    , 23.7232    , 16.1259    ,\n",
       "       36.14628333, 15.0348    , 60.9509    , 63.8425    , 52.1371    ,\n",
       "       65.315325  , 37.8395    , 38.2767    , 12.7387    , 34.43235   ,\n",
       "       20.2795    , 35.488     , 11.8006    , 50.8626    , 46.0865    ,\n",
       "       24.5206    , 71.2258    , 57.23661167, 41.4754    , 23.3554    ,\n",
       "       37.534     , 36.8327    , 36.4749    , 27.52248   , 29.387     ,\n",
       "       43.4186    , 22.8517    , 28.1336    , 34.6322    , 15.78      ,\n",
       "       58.405     , 50.1665    , 48.978     , 10.1075    , 37.92915   ,\n",
       "       52.9434    , 37.5115    , 27.573     , 14.1316    , 22.8121    ,\n",
       "       38.90975   , 41.1858    , 73.217525  , 40.3063    , 12.9369    ,\n",
       "       43.0304    , 48.8814    , 59.1876    , 26.7407    , 17.2683    ,\n",
       "       35.3276    , 41.8208    , 32.63275   , 28.7584    , 12.524     ,\n",
       "       15.7744    , 48.35745   , 44.7036    , 67.8968    , 51.7368    ,\n",
       "       38.7933    , 28.4431    , 28.8743    , 56.2372    , 42.4396    ,\n",
       "       10.6837    , 20.8813    , 28.652     , 50.8449    , 21.07563333,\n",
       "       45.528     , 26.1276    , 46.8452    , 32.6486    , 47.2026    ,\n",
       "       28.2771    , 56.46067714, 23.25606667, 57.2066625 , 56.46067714,\n",
       "       65.268175  ,  8.2572    , 35.7522    ])"
      ]
     },
     "execution_count": 68,
     "metadata": {},
     "output_type": "execute_result"
    }
   ],
   "source": [
    "y_pred=model.predict(x_test)\n",
    "y_pred"
   ]
  },
  {
   "cell_type": "markdown",
   "id": "2f924fb7",
   "metadata": {},
   "source": []
  },
  {
   "cell_type": "code",
   "execution_count": 69,
   "id": "01581d5c",
   "metadata": {},
   "outputs": [
    {
     "data": {
      "text/plain": [
       "0.9044150681338039"
      ]
     },
     "execution_count": 69,
     "metadata": {},
     "output_type": "execute_result"
    }
   ],
   "source": [
    "r2_score(y_test,y_pred)"
   ]
  },
  {
   "cell_type": "code",
   "execution_count": 39,
   "id": "0139eb4c",
   "metadata": {},
   "outputs": [],
   "source": [
    "#optimisation"
   ]
  },
  {
   "cell_type": "code",
   "execution_count": 70,
   "id": "a23b41ac",
   "metadata": {},
   "outputs": [],
   "source": [
    "from sklearn.model_selection import GridSearchCV"
   ]
  },
  {
   "cell_type": "code",
   "execution_count": 71,
   "id": "dc08f19a",
   "metadata": {},
   "outputs": [],
   "source": [
    "forest_params = [{'n_estimators':[100,200,300,50],'random_state':[42,33,51,67]}]"
   ]
  },
  {
   "cell_type": "code",
   "execution_count": 72,
   "id": "55718533",
   "metadata": {},
   "outputs": [
    {
     "data": {
      "text/plain": [
       "GridSearchCV(cv=10, estimator=RandomForestRegressor(random_state=42),\n",
       "             param_grid=[{'n_estimators': [100, 200, 300, 50],\n",
       "                          'random_state': [42, 33, 51, 67]}],\n",
       "             scoring='r2')"
      ]
     },
     "execution_count": 72,
     "metadata": {},
     "output_type": "execute_result"
    }
   ],
   "source": [
    "clf = GridSearchCV(model4, forest_params, cv = 10, scoring='r2')\n",
    "clf.fit(x_train, y_train)"
   ]
  },
  {
   "cell_type": "code",
   "execution_count": 73,
   "id": "3f3b2914",
   "metadata": {},
   "outputs": [
    {
     "name": "stdout",
     "output_type": "stream",
     "text": [
      "{'n_estimators': 300, 'random_state': 42}\n"
     ]
    }
   ],
   "source": [
    "print(clf.best_params_)"
   ]
  },
  {
   "cell_type": "code",
   "execution_count": 78,
   "id": "600150ff",
   "metadata": {},
   "outputs": [
    {
     "name": "stdout",
     "output_type": "stream",
     "text": [
      "0.9064103133128946\n"
     ]
    }
   ],
   "source": [
    "model4=RandomForestRegressor(n_estimators=300,random_state=42)\n",
    "model4.fit(x_train,y_train)\n",
    "y_head=model4.predict(x_test)\n",
    "Scores.append(r2_score(y_test,y_head))\n",
    "print(r2_score(y_test,y_head))"
   ]
  },
  {
   "cell_type": "code",
   "execution_count": 79,
   "id": "29beefdf",
   "metadata": {},
   "outputs": [],
   "source": [
    "import pickle\n",
    "file=open('concrete_model.pkl','wb')\n",
    "pickle.dump(model4,file)"
   ]
  },
  {
   "cell_type": "code",
   "execution_count": null,
   "id": "8f65e534",
   "metadata": {},
   "outputs": [],
   "source": []
  }
 ],
 "metadata": {
  "kernelspec": {
   "display_name": "Python 3 (ipykernel)",
   "language": "python",
   "name": "python3"
  },
  "language_info": {
   "codemirror_mode": {
    "name": "ipython",
    "version": 3
   },
   "file_extension": ".py",
   "mimetype": "text/x-python",
   "name": "python",
   "nbconvert_exporter": "python",
   "pygments_lexer": "ipython3",
   "version": "3.7.11"
  }
 },
 "nbformat": 4,
 "nbformat_minor": 5
}
